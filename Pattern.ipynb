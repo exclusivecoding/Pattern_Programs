{
 "cells": [
  {
   "cell_type": "markdown",
   "id": "4a6493b7",
   "metadata": {},
   "source": [
    "# PATTERN PROGRAMS \n",
    "*MADE BY TEJAS PRAJAPATI\n",
    "NOTE : first try your self then look into this code it's better for your future.."
   ]
  },
  {
   "cell_type": "code",
   "execution_count": 1,
   "id": "78e22ed9",
   "metadata": {},
   "outputs": [
    {
     "name": "stdout",
     "output_type": "stream",
     "text": [
      "*\n",
      "**\n",
      "***\n",
      "****\n",
      "*****\n"
     ]
    }
   ],
   "source": [
    "for i in range(1,6):\n",
    "    print(\"*\"*i)"
   ]
  },
  {
   "cell_type": "markdown",
   "id": "d6e430fa",
   "metadata": {},
   "source": [
    "1 (a) "
   ]
  },
  {
   "cell_type": "markdown",
   "id": "3020e663",
   "metadata": {},
   "source": [
    "1 (b)"
   ]
  },
  {
   "cell_type": "code",
   "execution_count": 44,
   "id": "64bdbba1",
   "metadata": {},
   "outputs": [
    {
     "name": "stdout",
     "output_type": "stream",
     "text": [
      "1 \n",
      "2 2 \n",
      "3 3 3 \n",
      "4 4 4 4 \n",
      "5 5 5 5 5 \n"
     ]
    }
   ],
   "source": [
    "for i in range(1,6):\n",
    "    print(f\"{i} \"*i)"
   ]
  },
  {
   "cell_type": "markdown",
   "id": "647e7523",
   "metadata": {},
   "source": [
    "1 (c)"
   ]
  },
  {
   "cell_type": "code",
   "execution_count": 4,
   "id": "cfe4e4f0",
   "metadata": {},
   "outputs": [
    {
     "name": "stdout",
     "output_type": "stream",
     "text": [
      "1  \n",
      "1 2  \n",
      "1 2 3  \n",
      "1 2 3 4  \n",
      "1 2 3 4 5  \n"
     ]
    }
   ],
   "source": [
    "for i in range(1,6):\n",
    "    for j in range(1,i+1):\n",
    "        print(j,end=\" \")  \n",
    "    print(\" \")"
   ]
  },
  {
   "cell_type": "markdown",
   "id": "4136a7f5",
   "metadata": {},
   "source": [
    "1 (d)"
   ]
  },
  {
   "cell_type": "code",
   "execution_count": 9,
   "id": "4da2e793",
   "metadata": {},
   "outputs": [
    {
     "name": "stdout",
     "output_type": "stream",
     "text": [
      "2 \n",
      "3 4 \n",
      "4 5 6 \n",
      "5 6 7 8 \n",
      "6 7 8 9 10 \n"
     ]
    }
   ],
   "source": [
    "n_rows = 5\n",
    "for i in range(1, n_rows+1):\n",
    "    for j in range(i):\n",
    "        print(i+j+1, end=\" \")\n",
    "\n",
    "    print()"
   ]
  },
  {
   "cell_type": "markdown",
   "id": "f3502ef8",
   "metadata": {},
   "source": [
    "1 (e)"
   ]
  },
  {
   "cell_type": "code",
   "execution_count": 6,
   "id": "b0176c60",
   "metadata": {},
   "outputs": [
    {
     "name": "stdout",
     "output_type": "stream",
     "text": [
      "1 \n",
      "0 1 \n",
      "1 0 1 \n",
      "0 1 0 1 \n",
      "1 0 1 0 1 \n"
     ]
    }
   ],
   "source": [
    "for i in range(0,5):\n",
    "    for j in range(i+1):\n",
    "        if (i+j)%2==0:\n",
    "            print(\"1\",end=\" \")\n",
    "        else:\n",
    "            print(\"0\",end=\" \")\n",
    "    print()"
   ]
  },
  {
   "cell_type": "markdown",
   "id": "8e6bde77",
   "metadata": {},
   "source": [
    "1 (f)"
   ]
  },
  {
   "cell_type": "code",
   "execution_count": 11,
   "id": "6b85550a",
   "metadata": {},
   "outputs": [
    {
     "name": "stdout",
     "output_type": "stream",
     "text": [
      "1 \n",
      "2 3 \n",
      "4 5 6 \n",
      "7 8 9 10 \n",
      "11 12 13 14 15 \n"
     ]
    }
   ],
   "source": [
    "num = 1\n",
    "for i in range(1,6):\n",
    "    for j in range(i):\n",
    "        print(num,end=\" \")\n",
    "        num += 1\n",
    "    print()"
   ]
  },
  {
   "cell_type": "markdown",
   "id": "cf7f4704",
   "metadata": {},
   "source": [
    "1(g)"
   ]
  },
  {
   "cell_type": "code",
   "execution_count": 12,
   "id": "299614fe",
   "metadata": {},
   "outputs": [
    {
     "name": "stdout",
     "output_type": "stream",
     "text": [
      "5 \n",
      "5 4 \n",
      "5 4 3 \n",
      "5 4 3 2 \n",
      "5 4 3 2 1 \n"
     ]
    }
   ],
   "source": [
    "for i in range(5,0,-1):\n",
    "    for j in range(5,i-1,-1):\n",
    "         print(j,end=\" \")\n",
    "    print()"
   ]
  },
  {
   "cell_type": "markdown",
   "id": "d2844259",
   "metadata": {},
   "source": [
    "1(h)"
   ]
  },
  {
   "cell_type": "code",
   "execution_count": 13,
   "id": "8d9ed2a3",
   "metadata": {},
   "outputs": [
    {
     "name": "stdout",
     "output_type": "stream",
     "text": [
      "5 \n",
      "4 4 \n",
      "3 3 3 \n",
      "2 2 2 2 \n",
      "1 1 1 1 1 \n"
     ]
    }
   ],
   "source": [
    "for i in range(5,0,-1):\n",
    "    for j in range(i,6):\n",
    "        print(i,end=\" \")\n",
    "    print()"
   ]
  },
  {
   "cell_type": "markdown",
   "id": "6c034a1e",
   "metadata": {},
   "source": [
    "1(i)"
   ]
  },
  {
   "cell_type": "code",
   "execution_count": 14,
   "id": "27ea93d6",
   "metadata": {},
   "outputs": [
    {
     "name": "stdout",
     "output_type": "stream",
     "text": [
      "* * * * * \n",
      "* * * * \n",
      "* * * \n",
      "* * \n",
      "* \n"
     ]
    }
   ],
   "source": [
    "for i in range(5,0,-1):\n",
    "    print(\"* \"*i)"
   ]
  },
  {
   "cell_type": "markdown",
   "id": "a6d1ef9e",
   "metadata": {},
   "source": [
    "1(j)"
   ]
  },
  {
   "cell_type": "code",
   "execution_count": 15,
   "id": "264d54cc",
   "metadata": {},
   "outputs": [
    {
     "name": "stdout",
     "output_type": "stream",
     "text": [
      "1 1 1 1 1 \n",
      "2 2 2 2 \n",
      "3 3 3 \n",
      "2 2 \n",
      "1 \n"
     ]
    }
   ],
   "source": [
    "for i in range(1,6):\n",
    "    for j in range(i,6):\n",
    "        if i<4:\n",
    "            print(i,end=\" \")\n",
    "        else:\n",
    "            print(6-i,end=\" \")\n",
    "    print()"
   ]
  },
  {
   "cell_type": "markdown",
   "id": "b745d93d",
   "metadata": {},
   "source": [
    "1(k)"
   ]
  },
  {
   "cell_type": "code",
   "execution_count": 18,
   "id": "9bc20c7a",
   "metadata": {},
   "outputs": [
    {
     "name": "stdout",
     "output_type": "stream",
     "text": [
      "1 2 3 4 5 \n",
      "1 2 3 4 \n",
      "1 2 3 \n",
      "1 2 \n",
      "1 \n"
     ]
    }
   ],
   "source": [
    "for i in range(1,6):\n",
    "    for j in range(i,6):\n",
    "        print(j-i+1,end=\" \")\n",
    "    print()"
   ]
  },
  {
   "cell_type": "markdown",
   "id": "04ad6d85",
   "metadata": {},
   "source": [
    "1(L)"
   ]
  },
  {
   "cell_type": "code",
   "execution_count": 19,
   "id": "bdc3fe64",
   "metadata": {},
   "outputs": [
    {
     "name": "stdout",
     "output_type": "stream",
     "text": [
      "55555\n",
      "4444\n",
      "333\n",
      "22\n",
      "1\n"
     ]
    }
   ],
   "source": [
    "for i in range(5,0,-1):\n",
    "    print(f'{i}'*i)"
   ]
  },
  {
   "cell_type": "markdown",
   "id": "f00ccf99",
   "metadata": {},
   "source": [
    "1(m)"
   ]
  },
  {
   "cell_type": "code",
   "execution_count": 20,
   "id": "37ad4e4d",
   "metadata": {},
   "outputs": [
    {
     "name": "stdout",
     "output_type": "stream",
     "text": [
      "5 4 3 2 1 \n",
      "5 4 3 2 \n",
      "5 4 3 \n",
      "5 4 \n",
      "5 \n"
     ]
    }
   ],
   "source": [
    "for i in range(0,5):\n",
    "    for j in range(5,i,-1):\n",
    "        print(j,end=\" \")\n",
    "    print()"
   ]
  },
  {
   "cell_type": "markdown",
   "id": "c735fd79",
   "metadata": {},
   "source": [
    "2(n)"
   ]
  },
  {
   "cell_type": "code",
   "execution_count": 23,
   "id": "98750d0a",
   "metadata": {},
   "outputs": [
    {
     "name": "stdout",
     "output_type": "stream",
     "text": [
      "     *\n",
      "    * *\n",
      "   * * *\n",
      "  * * * *\n",
      " * * * * *\n"
     ]
    }
   ],
   "source": [
    "n = 5\n",
    "for i in range(1,n+1):\n",
    "    print(\" \"*(n-i)+\" *\"*i)"
   ]
  },
  {
   "cell_type": "markdown",
   "id": "68045536",
   "metadata": {},
   "source": [
    "2(o)"
   ]
  },
  {
   "cell_type": "code",
   "execution_count": 30,
   "id": "1e60dfab",
   "metadata": {},
   "outputs": [
    {
     "name": "stdout",
     "output_type": "stream",
     "text": [
      "    1 \n",
      "   1 2 \n",
      "  1 2 3 \n",
      " 1 2 3 4 \n",
      "1 2 3 4 5 \n"
     ]
    }
   ],
   "source": [
    "n = 5\n",
    "for i in range(1,n+1):\n",
    "    for j in range(n-i):\n",
    "        print(\" \",end=\"\")\n",
    "    for k in range(1,i+1):\n",
    "        print(k,end=\" \")\n",
    "    print()"
   ]
  },
  {
   "cell_type": "markdown",
   "id": "f8503ca8",
   "metadata": {},
   "source": [
    "2(p)"
   ]
  },
  {
   "cell_type": "code",
   "execution_count": 31,
   "id": "adbaa043",
   "metadata": {},
   "outputs": [
    {
     "name": "stdout",
     "output_type": "stream",
     "text": [
      "    *\n",
      "   **\n",
      "  ***\n",
      " ****\n",
      "*****\n"
     ]
    }
   ],
   "source": [
    "n = 5\n",
    "for i in range(1,n+1):\n",
    "    print(\" \"*(n-i)+\"*\"*i)"
   ]
  },
  {
   "cell_type": "markdown",
   "id": "d457c14d",
   "metadata": {},
   "source": [
    "2(q)"
   ]
  },
  {
   "cell_type": "code",
   "execution_count": 32,
   "id": "5ae6bd24",
   "metadata": {},
   "outputs": [
    {
     "name": "stdout",
     "output_type": "stream",
     "text": [
      "    1\n",
      "   12\n",
      "  123\n",
      " 1234\n",
      "12345\n"
     ]
    }
   ],
   "source": [
    "n = 5\n",
    "for i in range(1,n+1):\n",
    "    for j in range(n-i):\n",
    "        print(\" \",end=\"\")\n",
    "    for k in range(1,i+1):\n",
    "        print(k,end=\"\")\n",
    "    print()"
   ]
  },
  {
   "cell_type": "markdown",
   "id": "c84ffc95",
   "metadata": {},
   "source": [
    "2(r)"
   ]
  },
  {
   "cell_type": "code",
   "execution_count": 33,
   "id": "4724b1f2",
   "metadata": {},
   "outputs": [
    {
     "name": "stdout",
     "output_type": "stream",
     "text": [
      "    *\n",
      "   ***\n",
      "  *****\n",
      " *******\n",
      "*********\n"
     ]
    }
   ],
   "source": [
    "num = 5\n",
    "for i in range(1,num+1):\n",
    "    print(\" \"*(num-i)+\"*\"*(2*i-1))"
   ]
  },
  {
   "cell_type": "markdown",
   "id": "90991400",
   "metadata": {},
   "source": [
    "2(s)"
   ]
  },
  {
   "cell_type": "code",
   "execution_count": 35,
   "id": "e8e6fe72",
   "metadata": {},
   "outputs": [
    {
     "name": "stdout",
     "output_type": "stream",
     "text": [
      "    1\n",
      "   222\n",
      "  33333\n",
      " 4444444\n",
      "555555555\n"
     ]
    }
   ],
   "source": [
    "num = 5\n",
    "for i in range(1,num+1):\n",
    "    print(\" \"*(num-i)+f\"{i}\"*(2*i-1))"
   ]
  },
  {
   "cell_type": "markdown",
   "id": "4b5e2ba2",
   "metadata": {},
   "source": [
    "2(t)"
   ]
  },
  {
   "cell_type": "code",
   "execution_count": 36,
   "id": "fac293c9",
   "metadata": {},
   "outputs": [
    {
     "name": "stdout",
     "output_type": "stream",
     "text": [
      "    1\n",
      "   123\n",
      "  12345\n",
      " 1234567\n",
      "123456789\n"
     ]
    }
   ],
   "source": [
    "num = 5\n",
    "for i in range(1,n+1):\n",
    "    for j in range(n-i):\n",
    "        print(\" \",end=\"\")\n",
    "    for k in range(2*i-1):\n",
    "        print(k+1,end=\"\")\n",
    "    print()"
   ]
  },
  {
   "cell_type": "markdown",
   "id": "e96dde46",
   "metadata": {},
   "source": [
    "2(u)"
   ]
  },
  {
   "cell_type": "code",
   "execution_count": 41,
   "id": "44202143",
   "metadata": {},
   "outputs": [
    {
     "name": "stdout",
     "output_type": "stream",
     "text": [
      "        * \n",
      "      * * * \n",
      "    * * * * * \n",
      "  * * * * * * * \n",
      "* * * * * * * * * \n"
     ]
    }
   ],
   "source": [
    "num = 5\n",
    "for i in range(1,n+1):\n",
    "    for j in range(n-i):\n",
    "        print(\" \",end=\" \")\n",
    "    for k in range(2*i-1):\n",
    "        print(\"*\",end=\" \")\n",
    "    print()"
   ]
  },
  {
   "cell_type": "markdown",
   "id": "6e645e10",
   "metadata": {},
   "source": [
    "3(v)"
   ]
  },
  {
   "cell_type": "code",
   "execution_count": 86,
   "id": "b753f462",
   "metadata": {},
   "outputs": [
    {
     "name": "stdout",
     "output_type": "stream",
     "text": [
      "    1\n",
      "   232\n",
      "  34543\n",
      " 4567654\n",
      "567898765\n"
     ]
    }
   ],
   "source": [
    "n = 5\n",
    "for i in range(1,n+1):\n",
    "    for j in range(n-i):\n",
    "        print(\" \",end=\"\")\n",
    "    for k in range(0,i):\n",
    "        print(i+k,end=\"\")\n",
    "    for l in range(i-1,0,-1):\n",
    "        print(i+l-1,end=\"\")\n",
    "    print()"
   ]
  },
  {
   "cell_type": "markdown",
   "id": "958d806d",
   "metadata": {},
   "source": [
    "3(w)"
   ]
  },
  {
   "cell_type": "code",
   "execution_count": 162,
   "id": "f8a70fe1",
   "metadata": {},
   "outputs": [
    {
     "name": "stdout",
     "output_type": "stream",
     "text": [
      "    5\n",
      "   545\n",
      "  54345\n",
      " 5432345\n",
      "543212345\n"
     ]
    }
   ],
   "source": [
    "n = 5\n",
    "for i in range(n,0,-1):\n",
    "    for j in range(i-1):\n",
    "        print(\" \",end=\"\")\n",
    "    for k in range(n,i-1,-1):\n",
    "        print(k,end=\"\")\n",
    "    for l in range(n-1,i-1,-1):\n",
    "        print(n-l+i,end=\"\")\n",
    "    print()"
   ]
  },
  {
   "cell_type": "markdown",
   "id": "71d6307a",
   "metadata": {},
   "source": [
    "3(x)"
   ]
  },
  {
   "cell_type": "code",
   "execution_count": 169,
   "id": "8722ef16",
   "metadata": {},
   "outputs": [
    {
     "name": "stdout",
     "output_type": "stream",
     "text": [
      "*********\n",
      " *******\n",
      "  *****\n",
      "   ***\n",
      "    *\n"
     ]
    }
   ],
   "source": [
    "n = 5\n",
    "for i in range(n,0,-1):\n",
    "    print(\" \"*(n-i)+\"*\"*(2*i-1))"
   ]
  },
  {
   "cell_type": "markdown",
   "id": "a177ca31",
   "metadata": {},
   "source": [
    "3(y)"
   ]
  },
  {
   "cell_type": "code",
   "execution_count": 170,
   "id": "fd1dd7da",
   "metadata": {},
   "outputs": [
    {
     "name": "stdout",
     "output_type": "stream",
     "text": [
      "555555555\n",
      " 4444444\n",
      "  33333\n",
      "   222\n",
      "    1\n"
     ]
    }
   ],
   "source": [
    "n = 5\n",
    "for i in range(n,0,-1):\n",
    "    print(\" \"*(n-i)+f\"{i}\"*(2*i-1))"
   ]
  },
  {
   "cell_type": "markdown",
   "id": "37c39b54",
   "metadata": {},
   "source": [
    "3(z)"
   ]
  },
  {
   "cell_type": "code",
   "execution_count": 1,
   "id": "8668bff9",
   "metadata": {},
   "outputs": [
    {
     "name": "stdout",
     "output_type": "stream",
     "text": [
      "123456789\n",
      " 1234567\n",
      "  12345\n",
      "   123\n",
      "    1\n"
     ]
    }
   ],
   "source": [
    "n = 5 \n",
    "num = 10\n",
    "for i in range(0,n):\n",
    "    for j in range(i):\n",
    "        print(\" \",end=\"\")\n",
    "    for k in range(1,num-(2*i)):\n",
    "        print(k,end=\"\")\n",
    "        \n",
    "    print()"
   ]
  },
  {
   "cell_type": "markdown",
   "id": "01ad7867",
   "metadata": {},
   "source": [
    "3(z1)"
   ]
  },
  {
   "cell_type": "code",
   "execution_count": 2,
   "id": "dce50b34",
   "metadata": {},
   "outputs": [
    {
     "name": "stdout",
     "output_type": "stream",
     "text": [
      "567898765\n",
      " 4567654\n",
      "  34543\n",
      "   232\n",
      "    1\n"
     ]
    }
   ],
   "source": [
    "++"
   ]
  },
  {
   "cell_type": "markdown",
   "id": "b5e27e55",
   "metadata": {},
   "source": [
    "3(z2)"
   ]
  },
  {
   "cell_type": "code",
   "execution_count": 14,
   "id": "2462e8d6",
   "metadata": {},
   "outputs": [
    {
     "name": "stdout",
     "output_type": "stream",
     "text": [
      "543212345\n",
      " 5432345\n",
      "  54345\n",
      "   545\n",
      "    5\n"
     ]
    }
   ],
   "source": [
    "n = 5\n",
    "for i in range(1,n+1):\n",
    "    for j in range(i-1):\n",
    "        print(\" \",end=\"\")\n",
    "    for k in range(n,i-1,-1):\n",
    "        print(k,end=\"\")\n",
    "    for l in range(n-1,i-1,-1):\n",
    "        print(n-l+i,end=\"\")\n",
    "    print()"
   ]
  },
  {
   "cell_type": "markdown",
   "id": "71e01625",
   "metadata": {},
   "source": [
    "4(z3)"
   ]
  },
  {
   "cell_type": "code",
   "execution_count": 20,
   "id": "e4f30c0f",
   "metadata": {},
   "outputs": [
    {
     "name": "stdout",
     "output_type": "stream",
     "text": [
      "    *\n",
      "   ***\n",
      "  *****\n",
      " *******\n",
      "*********\n",
      " *******\n",
      "  *****\n",
      "   ***\n",
      "    *\n"
     ]
    }
   ],
   "source": [
    "num = 5\n",
    "for i in range(1,num+1):\n",
    "    print(\" \"*(num-i)+\"*\"*(2*i-1))\n",
    "for i in range(num-1,0,-1):\n",
    "    print(\" \"*(num-i)+\"*\"*(2*i-1))"
   ]
  },
  {
   "cell_type": "markdown",
   "id": "c3947b8d",
   "metadata": {},
   "source": [
    "4(z4)"
   ]
  },
  {
   "cell_type": "code",
   "execution_count": 24,
   "id": "d13fda38",
   "metadata": {},
   "outputs": [
    {
     "name": "stdout",
     "output_type": "stream",
     "text": [
      "    1\n",
      "   222\n",
      "  33333\n",
      " 4444444\n",
      "555555555\n",
      " 4444444\n",
      "  33333\n",
      "   222\n",
      "    1\n"
     ]
    }
   ],
   "source": [
    "num = 5\n",
    "for i in range(1,num+1):\n",
    "    print(\" \"*(num-i)+f\"{i}\"*(2*i-1))\n",
    "for i in range(n-1,0,-1):\n",
    "    print(\" \"*(n-i)+f\"{i}\"*(2*i-1))"
   ]
  },
  {
   "cell_type": "markdown",
   "id": "30b3992e",
   "metadata": {},
   "source": [
    "4(z5)"
   ]
  },
  {
   "cell_type": "code",
   "execution_count": 33,
   "id": "5c5d7032",
   "metadata": {},
   "outputs": [
    {
     "name": "stdout",
     "output_type": "stream",
     "text": [
      "    1\n",
      "   123\n",
      "  12345\n",
      " 1234567\n",
      "123456789\n",
      " 1234567\n",
      "  12345\n",
      "   123\n",
      "    1\n"
     ]
    }
   ],
   "source": [
    "n = 5\n",
    "num = 10\n",
    "for i in range(1,n+1):\n",
    "    for j in range(n-i):\n",
    "        print(\" \",end=\"\")\n",
    "    for k in range(2*i-1):\n",
    "        print(k+1,end=\"\")\n",
    "    print()\n",
    "\n",
    "for i in range(1,n):\n",
    "    for j in range(i):\n",
    "        print(\" \",end=\"\")\n",
    "    for k in range(1,num-(2*i)):\n",
    "        print(k,end=\"\")\n",
    "        \n",
    "    print()"
   ]
  },
  {
   "cell_type": "markdown",
   "id": "a46c05ce",
   "metadata": {},
   "source": [
    "4(z6)"
   ]
  },
  {
   "cell_type": "code",
   "execution_count": 35,
   "id": "8fdbc87f",
   "metadata": {},
   "outputs": [
    {
     "name": "stdout",
     "output_type": "stream",
     "text": [
      "    1\n",
      "   232\n",
      "  34543\n",
      " 4567654\n",
      "567898765\n",
      " 4567654\n",
      "  34543\n",
      "   232\n",
      "    1\n"
     ]
    }
   ],
   "source": [
    "n = 5\n",
    "for i in range(1,n+1):\n",
    "    for j in range(n-i):\n",
    "        print(\" \",end=\"\")\n",
    "    for k in range(0,i):\n",
    "        print(i+k,end=\"\")\n",
    "    for l in range(i-1,0,-1):\n",
    "        print(i+l-1,end=\"\")\n",
    "    print()\n",
    "for i in range(n-1,0,-1):\n",
    "    for j in range(n-i):\n",
    "        print(\" \",end=\"\")\n",
    "    for k in range(0,i):\n",
    "        print(i+k,end=\"\")\n",
    "    for l in range(i-1,0,-1):\n",
    "        print(i+l-1,end=\"\")\n",
    "    print()"
   ]
  },
  {
   "cell_type": "markdown",
   "id": "7dfac491",
   "metadata": {},
   "source": [
    "4 - "
   ]
  },
  {
   "cell_type": "code",
   "execution_count": 36,
   "id": "7d14989e",
   "metadata": {},
   "outputs": [
    {
     "name": "stdout",
     "output_type": "stream",
     "text": [
      "*******\n",
      "*******\n",
      "*******\n",
      "*******\n",
      "*******\n",
      "*******\n",
      "*******\n"
     ]
    }
   ],
   "source": [
    "n = 7\n",
    "for i in range(1,n+1):\n",
    "    print(\"*\"*i+\"*\"*(n-i))"
   ]
  },
  {
   "cell_type": "markdown",
   "id": "f681240e",
   "metadata": {},
   "source": [
    "4 "
   ]
  },
  {
   "cell_type": "code",
   "execution_count": 1,
   "id": "d65143d7",
   "metadata": {},
   "outputs": [
    {
     "name": "stdout",
     "output_type": "stream",
     "text": [
      "********* \n",
      "*        *\n",
      "*        *\n",
      "*        *\n",
      "*        *\n",
      "*        *\n",
      "*        *\n",
      "*        *\n",
      "*        *\n",
      "********* \n"
     ]
    }
   ],
   "source": [
    "n =10\n",
    "for i in range(n):\n",
    "    for j in range(n):\n",
    "        if (j==0) or (j==(n-1) and (i!=0 and i!=(n-1))) or ((i==0 or i==(n-1)) and (j>0 and j<(n-1))):\n",
    "            print(\"*\",end=\"\")\n",
    "        else:\n",
    "            print(\" \",end=\"\")\n",
    "    print()"
   ]
  },
  {
   "cell_type": "markdown",
   "id": "238ab0be",
   "metadata": {},
   "source": [
    "4"
   ]
  },
  {
   "cell_type": "code",
   "execution_count": 2,
   "id": "2922f5f3",
   "metadata": {},
   "outputs": [
    {
     "name": "stdout",
     "output_type": "stream",
     "text": [
      "\\******/\n",
      "*\\****/*\n",
      "**\\**/**\n",
      "***\\/***\n",
      "***/\\***\n",
      "**/**\\**\n",
      "*/****\\*\n",
      "/******\\\n"
     ]
    }
   ],
   "source": [
    "for i in range(8):\n",
    "    for j in range(8):\n",
    "        if (i-j==0):\n",
    "            print('\\\\', end='')\n",
    "        elif (i+j==7):\n",
    "            print('/', end='')\n",
    "        else:\n",
    "            print('*', end='')\n",
    "        \n",
    "    print()"
   ]
  },
  {
   "cell_type": "code",
   "execution_count": 13,
   "id": "6fa0200c",
   "metadata": {},
   "outputs": [
    {
     "name": "stdout",
     "output_type": "stream",
     "text": [
      "---------------.|.---------------\n",
      "------------.|..|..|.------------\n",
      "---------.|..|..|..|..|.---------\n",
      "------.|..|..|..|..|..|..|.------\n",
      "---.|..|..|..|..|..|..|..|..|.---\n",
      "-------------WELCOME-------------\n",
      "---.|..|..|..|..|..|..|..|..|.---\n",
      "------.|..|..|..|..|..|..|.------\n",
      "---------.|..|..|..|..|.---------\n",
      "------------.|..|..|.------------\n",
      "---------------.|.---------------\n"
     ]
    }
   ],
   "source": [
    "for i in range(1,6):\n",
    "    for j in range(17-(3*i-1)):\n",
    "        print(\"-\",end=\"\")\n",
    "    for k in range(0,(2*i-1)):\n",
    "        print(\".|.\",end=\"\")\n",
    "    for j in range(17-(3*i-1)):\n",
    "        print(\"-\",end=\"\")\n",
    "    print()\n",
    "st = \"WELCOME\"\n",
    "for i in range(16-len(st)//2):\n",
    "    print(\"-\",end=\"\")\n",
    "for j in st:\n",
    "    print(j,end=\"\")\n",
    "for i in range(16-len(st)//2):\n",
    "    print(\"-\",end=\"\")\n",
    "print()\n",
    "for i in range(5,0,-1):\n",
    "    for j in range(17-(3*i-1)):\n",
    "        print(\"-\",end=\"\")\n",
    "    for k in range(0,(2*i-1)):\n",
    "        print(\".|.\",end=\"\")\n",
    "    for j in range(17-(3*i-1)):\n",
    "        print(\"-\",end=\"\")\n",
    "    print()"
   ]
  },
  {
   "cell_type": "code",
   "execution_count": 31,
   "id": "204983c7",
   "metadata": {},
   "outputs": [
    {
     "name": "stdout",
     "output_type": "stream",
     "text": [
      "-------------------j------------------\n",
      "-----------------j-i-j----------------\n",
      "---------------j-i-h-i-j--------------\n",
      "-------------j-i-h-g-h-i-j------------\n",
      "-----------j-i-h-g-f-g-h-i-j----------\n",
      "---------j-i-h-g-f-e-f-g-h-i-j--------\n",
      "-------j-i-h-g-f-e-d-e-f-g-h-i-j------\n",
      "-----j-i-h-g-f-e-d-c-d-e-f-g-h-i-j----\n",
      "---j-i-h-g-f-e-d-c-b-c-d-e-f-g-h-i-j--\n",
      "-j-i-h-g-f-e-d-c-b-a-b-c-d-e-f-g-h-i-j\n",
      "---j-i-h-g-f-e-d-c-b-c-d-e-f-g-h-i-j--\n",
      "-----j-i-h-g-f-e-d-c-d-e-f-g-h-i-j----\n",
      "-------j-i-h-g-f-e-d-e-f-g-h-i-j------\n",
      "---------j-i-h-g-f-e-f-g-h-i-j--------\n",
      "-----------j-i-h-g-f-g-h-i-j----------\n",
      "-------------j-i-h-g-h-i-j------------\n",
      "---------------j-i-h-i-j--------------\n",
      "-----------------j-i-j----------------\n",
      "-------------------j------------------\n"
     ]
    }
   ],
   "source": [
    "n = 'jihgfedcba'\n",
    "for i in range(1,(len(n)+1)):\n",
    "    for j in range(1,(2*len(n)-2*i)+1):\n",
    "        print(\"-\",end=\"\")\n",
    "    for k in range(0,i):\n",
    "        print(\"-\"+n[k],end=\"\")\n",
    "    for l in range(i-1,0,-1):\n",
    "        print(\"-\"+n[l-1],end=\"\")\n",
    "    for m in range(1,(2*len(n)-2*i)+1):\n",
    "        print(\"-\",end=\"\")\n",
    "    print()\n",
    "for i in range(len(n)-1,0,-1):\n",
    "    for j in range(1,(2*len(n)-2*i)+1):\n",
    "        print(\"-\",end=\"\")\n",
    "    for k in range(0,i):\n",
    "        print(\"-\"+n[k],end=\"\")\n",
    "    for l in range(i-1,0,-1):\n",
    "        print(\"-\"+n[l-1],end=\"\")\n",
    "    for m in range(1,(2*len(n)-2*i)+1):\n",
    "        print(\"-\",end=\"\")\n",
    "    print()"
   ]
  },
  {
   "cell_type": "code",
   "execution_count": 1,
   "id": "16557d08",
   "metadata": {},
   "outputs": [
    {
     "name": "stdout",
     "output_type": "stream",
     "text": [
      "---------------.|.---------------\n",
      "------------.|..|..|.------------\n",
      "---------.|..|..|..|..|.---------\n",
      "------.|..|..|..|..|..|..|.------\n",
      "---.|..|..|..|..|..|..|..|..|.---\n",
      "-------------WELCOME-------------\n",
      "---.|..|..|..|..|..|..|..|..|.---\n",
      "------.|..|..|..|..|..|..|.------\n",
      "---------.|..|..|..|..|.---------\n",
      "------------.|..|..|.------------\n",
      "---------------.|.---------------\n"
     ]
    }
   ],
   "source": [
    "for i in range(1,11,2):\n",
    "    print((i*\".|.\").center(33,\"-\"))\n",
    "print(\"WELCOME\".center(33,\"-\"))\n",
    "for i in range(9,0,-2):\n",
    "    print((i*\".|.\").center(33,\"-\"))"
   ]
  },
  {
   "cell_type": "code",
   "execution_count": 31,
   "id": "d3fd0223",
   "metadata": {},
   "outputs": [
    {
     "name": "stdout",
     "output_type": "stream",
     "text": [
      "------------------j------------------\n",
      "----------------j-i-j----------------\n",
      "--------------j-i-h-i-j--------------\n",
      "------------j-i-h-g-h-i-j------------\n",
      "----------j-i-h-g-f-g-h-i-j----------\n",
      "--------j-i-h-g-f-e-f-g-h-i-j--------\n",
      "------j-i-h-g-f-e-d-e-f-g-h-i-j------\n",
      "----j-i-h-g-f-e-d-c-d-e-f-g-h-i-j----\n",
      "--j-i-h-g-f-e-d-c-b-c-d-e-f-g-h-i-j--\n",
      "j-i-h-g-f-e-d-c-b-a-b-c-d-e-f-g-h-i-j\n",
      "--j-i-h-g-f-e-d-c-b-c-d-e-f-g-h-i-j--\n",
      "----j-i-h-g-f-e-d-c-d-e-f-g-h-i-j----\n",
      "------j-i-h-g-f-e-d-e-f-g-h-i-j------\n",
      "--------j-i-h-g-f-e-f-g-h-i-j--------\n",
      "----------j-i-h-g-f-g-h-i-j----------\n",
      "------------j-i-h-g-h-i-j------------\n",
      "--------------j-i-h-i-j--------------\n",
      "----------------j-i-j----------------\n",
      "------------------j------------------\n"
     ]
    }
   ],
   "source": [
    "def pad(c1, c2, sep='-', field_width=10):\n",
    "    out = sep.join(chr(x) for x in range(c2, c1, -1)).rjust(field_width, sep) # build the first part \n",
    "    return sep.join([out, chr(c1), out[::-1]])\n",
    "start = 'a'\n",
    "end = 'j'\n",
    "field_width = (ord(end) - ord(start)) * 2 - 1\n",
    "for e in range(ord(end), ord(start), -1):\n",
    "    print(pad(e, ord(end), '-', field_width))\n",
    "\n",
    "for e in range(ord(start), ord(end) + 1):\n",
    "    print(pad(e, ord(end), '-', field_width))\n"
   ]
  },
  {
   "cell_type": "code",
   "execution_count": null,
   "id": "bd5bbb37",
   "metadata": {},
   "outputs": [],
   "source": []
  }
 ],
 "metadata": {
  "kernelspec": {
   "display_name": "Python 3 (ipykernel)",
   "language": "python",
   "name": "python3"
  },
  "language_info": {
   "codemirror_mode": {
    "name": "ipython",
    "version": 3
   },
   "file_extension": ".py",
   "mimetype": "text/x-python",
   "name": "python",
   "nbconvert_exporter": "python",
   "pygments_lexer": "ipython3",
   "version": "3.10.5"
  }
 },
 "nbformat": 4,
 "nbformat_minor": 5
}
